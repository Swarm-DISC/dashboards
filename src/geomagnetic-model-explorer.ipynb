{
 "cells": [
  {
   "cell_type": "markdown",
   "id": "cb652bec",
   "metadata": {},
   "source": [
    "# Models visualised"
   ]
  },
  {
   "cell_type": "code",
   "execution_count": null,
   "id": "a0d10e63",
   "metadata": {
    "tags": [
     "hide-cell"
    ]
   },
   "outputs": [],
   "source": [
    "import datetime as dt\n",
    "import numpy as np\n",
    "import xarray as xr\n",
    "# import matplotlib as mpl\n",
    "# import matplotlib.pyplot as plt\n",
    "# from scipy.interpolate import interp1d\n",
    "# import cartopy.crs as ccrs\n",
    "# import cartopy.feature as cfeature\n",
    "import holoviews as hv\n",
    "import hvplot.xarray\n",
    "import panel as pn\n",
    "\n",
    "import eoxmagmod\n",
    "from chaosmagpy.plot_utils import nio_colormap"
   ]
  },
  {
   "cell_type": "code",
   "execution_count": null,
   "id": "ebfdb220-f9d2-4bea-bbdd-f18d87fcdcc7",
   "metadata": {},
   "outputs": [],
   "source": [
    "hv.extension(\"bokeh\")"
   ]
  },
  {
   "cell_type": "code",
   "execution_count": null,
   "id": "e8b95b5f",
   "metadata": {
    "tags": [
     "hide-cell"
    ]
   },
   "outputs": [],
   "source": [
    "def grid(nlats=179, nlons=360, height=0):\n",
    "    \"\"\"A global grid of the specified size\"\"\"\n",
    "    _lats = np.linspace(-89, 89, nlats)\n",
    "    _lons = np.linspace(-179, 180, nlons)\n",
    "    coords = np.empty((_lats.size, _lons.size, 3))\n",
    "    coords[:,:,1], coords[:,:,0] = np.meshgrid(_lons, _lats)\n",
    "    coords[:,:,2] = height # height above WGS84 in km\n",
    "    return coords\n",
    "\n",
    "def eval_model(\n",
    "        time=dt.datetime(2020, 1, 1),\n",
    "        coords=grid(),\n",
    "        shc_model=eoxmagmod.data.IGRF13,\n",
    "    ):\n",
    "    \"\"\"Evaluate a .shc model at a fixed time\n",
    "\n",
    "    Args:\n",
    "        time (datetime)\n",
    "        coords (ndarray)\n",
    "        shc_model (str): path to file\n",
    "\n",
    "    Returns:\n",
    "        dict: magnetic field vector components:\n",
    "            https://intermagnet.github.io/faq/10.geomagnetic-comp.html\n",
    "    \"\"\"\n",
    "    # Convert Python datetime to MJD2000\n",
    "    epoch = eoxmagmod.util.datetime_to_decimal_year(time)\n",
    "    mjd2000 = eoxmagmod.decimal_year_to_mjd2000(epoch)\n",
    "    # Load model\n",
    "    model = eoxmagmod.load_model_shc(shc_model)\n",
    "    # Evaluate in North, East, Up coordinates\n",
    "    # Specify coordinate systems according to:\n",
    "    #   CT_GEODETIC_ABOVE_WGS84 = 0,\n",
    "    #   CT_GEOCENTRIC_SPHERICAL = 1,\n",
    "    #   CT_GEOCENTRIC_CARTESIAN = 2\n",
    "    # https://github.com/ESA-VirES/MagneticModel/blob/staging/eoxmagmod/eoxmagmod/pymm_coord.h\n",
    "    input_coordinate_system = 0\n",
    "    output_coordinate_system = 0\n",
    "    b_neu = model.eval(mjd2000, coords, input_coordinate_system, output_coordinate_system)\n",
    "    # Inclination (I), declination (D), intensity (F)\n",
    "    inc, dec, F = eoxmagmod.vincdecnorm(b_neu)\n",
    "    return {\"X\": b_neu[:,:,0], \"Y\": b_neu[:,:,1], \"Z\": -b_neu[:,:,2],\n",
    "            \"I\": inc, \"D\":dec, \"F\":F}\n",
    "\n",
    "def eval_model_on_grid(model=eoxmagmod.data.IGRF13, heights=range(0, 1000, 100), nlats=180, nlons=360):\n",
    "    ds_set = []\n",
    "    for height in heights:\n",
    "        coords=grid(nlats, nlons, height)\n",
    "        output = eval_model(coords=coords, shc_model=model)\n",
    "        _ds = xr.Dataset(\n",
    "            {\n",
    "                \"Z\": ((\"y\", \"x\"), output[\"Z\"]),\n",
    "                \"X\": ((\"y\", \"x\"), output[\"X\"]),\n",
    "                \"Y\": ((\"y\", \"x\"), output[\"Y\"]),\n",
    "            },\n",
    "            coords={\"lat\": ((\"y\", \"x\"), coords[:,:,0]), \"lon\": ((\"y\", \"x\"), coords[:,:,1])}\n",
    "        )\n",
    "        _ds = _ds.assign_coords({\"height\": height})\n",
    "        ds_set += [_ds]\n",
    "    ds = xr.concat(ds_set, dim=\"height\")\n",
    "    ds[\"height\"].attrs = {\"units\": \"km\"}\n",
    "    return ds"
   ]
  },
  {
   "cell_type": "markdown",
   "id": "11bccddf",
   "metadata": {},
   "source": [
    "## Core field"
   ]
  },
  {
   "cell_type": "code",
   "execution_count": null,
   "id": "f9b9e05d",
   "metadata": {
    "tags": [
     "hide-cell"
    ]
   },
   "outputs": [],
   "source": [
    "@pn.cache\n",
    "def get_core_field():\n",
    "    return eval_model_on_grid(\n",
    "        model=eoxmagmod.data.IGRF13,\n",
    "        heights=range(-3000, 3000, 500)\n",
    "    )\n",
    "\n",
    "ds_igrf = get_core_field()\n",
    "# ds_igrf"
   ]
  },
  {
   "cell_type": "code",
   "execution_count": null,
   "id": "f44d344a-26d3-4b19-8f0b-ff64afb89185",
   "metadata": {
    "tags": [
     "hide-input"
    ]
   },
   "outputs": [],
   "source": [
    "# hv_core_field = ds_igrf.hvplot.contourf(x=\"lon\", y=\"lat\", z=\"Z\", levels=30, clim=(-60_000, 60_000), xlim=(-180, 180), ylim=(-90, 90))\n",
    "hv_core_field = ds_igrf.hvplot.contourf(\n",
    "    x=\"lon\", y=\"lat\", z=[\"X\", \"Y\", \"Z\"],\n",
    "    levels=50, xlim=(-180, 180), ylim=(-90, 90), cmap=\"bwr\"\n",
    ")\n",
    "# hv_core_field"
   ]
  },
  {
   "cell_type": "code",
   "execution_count": null,
   "id": "c9a37c83-21bc-430a-b6f1-e523fcaeba48",
   "metadata": {},
   "outputs": [],
   "source": [
    "dash_core = pn.panel(hv_core_field)\n",
    "dash_core[1][0].value = \"Z\"\n",
    "dash_core[1][1].value = 0\n",
    "# dash_core"
   ]
  },
  {
   "cell_type": "markdown",
   "id": "6759f859",
   "metadata": {},
   "source": [
    "## Lithospheric field"
   ]
  },
  {
   "cell_type": "code",
   "execution_count": null,
   "id": "c19662ff",
   "metadata": {
    "tags": [
     "hide-cell"
    ]
   },
   "outputs": [],
   "source": [
    "@pn.cache\n",
    "def get_crust_field():\n",
    "    return eval_model_on_grid(\n",
    "        model=eoxmagmod.data.CHAOS_STATIC_LATEST,\n",
    "        heights=range(0, 500, 100),\n",
    "        nlats=180,\n",
    "        nlons=360,\n",
    "    )\n",
    "\n",
    "ds_crust = get_crust_field()\n",
    "# ds_crust"
   ]
  },
  {
   "cell_type": "code",
   "execution_count": null,
   "id": "5edcd810",
   "metadata": {
    "tags": [
     "hide-input"
    ]
   },
   "outputs": [],
   "source": [
    "hv_crust_field = ds_crust.hvplot.contourf(\n",
    "    x=\"lon\", y=\"lat\", z=[\"X\", \"Y\", \"Z\"],\n",
    "    levels=100, xlim=(-180, 180), ylim=(-90, 90), cmap=\"bwr\", clim=(-150, 150),\n",
    ")\n",
    "# hv_crust_field"
   ]
  },
  {
   "cell_type": "code",
   "execution_count": null,
   "id": "a392a025-711c-46df-9afd-fa584f440e16",
   "metadata": {},
   "outputs": [],
   "source": [
    "dash_crust = pn.panel(hv_crust_field)\n",
    "dash_crust[1][0].value = \"Z\"\n",
    "dash_crust[1][1].value = 0\n",
    "# dash_crust"
   ]
  },
  {
   "cell_type": "markdown",
   "id": "4e368b4c-e274-4ebc-88c6-5ee2e92e2b88",
   "metadata": {},
   "source": [
    "## Compile dashboard"
   ]
  },
  {
   "cell_type": "code",
   "execution_count": null,
   "id": "d5bc06fc-85ec-49e9-9e23-1062d7ed0112",
   "metadata": {},
   "outputs": [],
   "source": [
    "# spinner = pn.indicators.LoadingSpinner()\n",
    "# pn.state.add_periodic_callback(lambda: spinner.param.set_param(value=pn.state.param.busy), period=100)\n",
    "\n",
    "vires_core_url = \"https://vires.services/?ws=data%3Aapplication/json%2Bgzip%3Bbase64%2CH4sIAMta5mMC/51Va0/iQBT9K6RfF5p5dF5%2BQ5R1E18Rd1UMaSodcTalJW1hNab/fe%2BMPEpZXSWZQOfMPefc3t7evnqFzhdmrH/pvDBZ6h20POpj7COv3fJKM9UDnehx%2BXZ07xGEeQdhWNcIHbjlI4SGNrp2RugBU7B8pdTQGy2ljrJpZNY6rINJh0IseU%2BHXKOtM6uzMPpPPSVvkmQP2tJmeRbPx2XRy9JHM5nn0TLi1RvchBeXx1fhWfd7Nzy9CvGhgxemMA%2BJhuvHKCk0SGTzMjGpLurQLBqb8gUQbD2iPJrqEmrlFA7D8%2BOeu8qjdGKV7jGDVNstZv9svuMsyfJiHDkf77cuvQrQ/ldJABburnUMUJnPtZVx/mGui24jiw63evyjFNbc8CyLdbLNB7Jg75ErS9%2BQNmW0aW2VDPlit2j9fQp2spMf/Wqxbhu%2ByPkS%2BqHvXaOuwpHEPzmxWeh8YtJJiB132OAS5/cZ5o8GUwJRfoJ3tCevb3QSrzq/XqN2K0Af1uc2PL5pmDJ4mP%2B3vNuXONyLWLnj6SxLdVrau7x/9YztDu%2BsdxEOTrohOXJ9YyZuqnzzdhq3qkZvMoDl0WVWmPWAmW020M8MSYqVLyQnmFLebnUIx0hwRnwWMBoQJaF9A0wQ44GPhSScBNzeQGzyzaztIJ9SFRCOFGJSAhNoyGcCCcE5SAbwS%2BARQaAIAGJcEgSWEG7F5rOlClIgISRMXImoVJJYGcEVZxQLLlQgqGAW4xRjKQVWQiglFLUquZk8le6V8xVlAmNEGZFMKY4thUibHkgoCg5KCpcOQRyMFKyAQP6SjWzhnrvPptia3acwo8t5/Da%2Bk6xsjm54SC%2BW5D4ZfTf/3f40enDDJ50nicXIKmi03jVCXGusoiw2qoPEcSHHLb/acBztuHxK0GJFVOokMeXy3eoms6eo9n05zKNFVtv3nqI8MfWP0vmgV9v9hDpF8Qqoqr%2BP2UcCwQcAAA%3D%3D\"\n",
    "vires_crust_url = \"https://vires.services/?ws=data%3Aapplication/json%2Bgzip%3Bbase64%2CH4sIAMta5mMC/51Va0/iQBT9K6RfF5p5dF5%2BQ5TVBF0j7qoY0lQ64mxKS9rCagj/fe%2BMPEpZXSWZQOfMPefcuZ3eWXiFzudmpH/pvDBZ6h01POpj7COv2fBKM9F9nehR%2Bbb04BGEeQthGDcIHbnhI4QGNrqyRugRUzB8pdTAG66kTrJJZDY6rIVJi0IseU%2BH3KCdNaszN/pPNSVvnGSP2tKmeRbPRmXRydInM57l0Spi4fVvwx9Xp9fhRft7O%2Bxdh/jYwXNTmMdEw/NTlBQaJLJZmZhUF1VoGo1M%2BQoIth5RHk10CbVyCsfh5WnHPeVROrZKD5hBqs0Gs38231GWZHkxipyP91uX3hLQ7ldJABZu1zoGqMxn2so4/zDXRbuWRYtbPf5RChtueJHFOtnlA1mw98hLS9%2BStmW0ae2UDPliv2jdQwp2tpcfxl%2Bp1F3NFDlTQj80va8VVTiS%2BCcnNnOdj006DrHjDmpc4vw%2BwzyvMSUQ5Sd4JwfyukYn8frYV2vUbATow/rchae3NVMGb/L/lveHEgcHEZdueTLNUp2WdpcPC8/Y0%2BFd9M7D/lk7JCfu3JixaynfvL1Tu1wO32QAy6OrrDCb7jLdTuAwMyQpVr6QnGBKebPRIhwjwRnxWcBoQJRsNmiACWI88LGQhJOA2w3EJt822hbyKVUB4UghJiUwgYZ8JpAQnINkAL8EXhEEigAgxiVBYAnhVmw2XakgBRJCQruViEoliZURXHFGseBCBYIKZjFOMZZSYCWEUkJRq5Kb8XPpvjdfUSYwRpQRyZTi2FKItOmBhKLgoKRw6RDEwUjBCAjkL9nQFu6l/WKKncbdgwZdzuK33p1kZb1vw0t6tSR3X3Rd83fzXvToOk86SxKLkXXQcDOrhbijsY6y2LAKEseFHHf8Kp1xuOfyKUGLFVGpk8SUq2%2BrnUyfo8rlcpxH86wy7zxHeWKqN9Jlv1OZ/YQ6RfEaWC7/AkvRHGW%2BBwAA\"\n",
    "dash = pn.Column(\n",
    "    # spinner,\n",
    "    pn.pane.Markdown(f\"## Core field:\\n[(View in VirES)]({vires_core_url})\"),\n",
    "    dash_core,\n",
    "    pn.pane.Markdown(f\"## Crustal field:\\n[(View in VirES)]({vires_crust_url})\"),\n",
    "    dash_crust,\n",
    ")"
   ]
  },
  {
   "cell_type": "code",
   "execution_count": null,
   "id": "1f68c643-cc24-4e83-abd8-eb0819ddebdf",
   "metadata": {},
   "outputs": [],
   "source": [
    "# bug when running? run this twice to fix it\n",
    "dash.servable(title=\"Geomagnetic Model Explorer\")"
   ]
  }
 ],
 "metadata": {
  "kernelspec": {
   "display_name": "Python [conda env:dashboards]",
   "language": "python",
   "name": "conda-env-dashboards-py"
  },
  "language_info": {
   "codemirror_mode": {
    "name": "ipython",
    "version": 3
   },
   "file_extension": ".py",
   "mimetype": "text/x-python",
   "name": "python",
   "nbconvert_exporter": "python",
   "pygments_lexer": "ipython3",
   "version": "3.10.11"
  }
 },
 "nbformat": 4,
 "nbformat_minor": 5
}
