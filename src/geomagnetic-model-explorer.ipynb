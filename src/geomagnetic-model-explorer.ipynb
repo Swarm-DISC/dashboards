{
 "cells": [
  {
   "cell_type": "markdown",
   "id": "cb652bec",
   "metadata": {},
   "source": [
    "# Models visualised"
   ]
  },
  {
   "cell_type": "code",
   "execution_count": null,
   "id": "a0d10e63",
   "metadata": {
    "tags": [
     "hide-cell"
    ]
   },
   "outputs": [],
   "source": [
    "import datetime as dt\n",
    "import logging\n",
    "import pathlib\n",
    "\n",
    "import numpy as np\n",
    "import xarray as xr\n",
    "import pandas as pd\n",
    "# import matplotlib as mpl\n",
    "# import matplotlib.pyplot as plt\n",
    "# from scipy.interpolate import interp1d\n",
    "# import cartopy.crs as ccrs\n",
    "# import cartopy.feature as cfeature\n",
    "import holoviews as hv\n",
    "import hvplot.xarray\n",
    "import panel as pn\n",
    "\n",
    "import eoxmagmod\n",
    "from chaosmagpy.plot_utils import nio_colormap\n",
    "\n",
    "logger = logging.getLogger(\"model-explorer\")"
   ]
  },
  {
   "cell_type": "markdown",
   "id": "5fb2cfb0-8bf8-4978-85a2-03646bb2f3ee",
   "metadata": {},
   "source": [
    "## Clear cache if necessary\n",
    "\n",
    "Should be in `./cache`. The `@pn.cache(to_disk=True)` decorators further down populate this cache."
   ]
  },
  {
   "cell_type": "code",
   "execution_count": null,
   "id": "31561a25-ead3-4072-93a5-259d8cf853e7",
   "metadata": {},
   "outputs": [],
   "source": [
    "# pn.state.clear_caches()"
   ]
  },
  {
   "cell_type": "markdown",
   "id": "a9a070b5-719b-4f63-813d-2db68dd0c2a8",
   "metadata": {},
   "source": [
    "## Magnetic model evaluation tools"
   ]
  },
  {
   "cell_type": "markdown",
   "id": "3c00a21f-fa7a-4b82-a7ca-7ab65c184089",
   "metadata": {},
   "source": [
    "https://esa-vires.github.io/MagneticModel/index.html"
   ]
  },
  {
   "cell_type": "code",
   "execution_count": null,
   "id": "d89ace35-5950-4695-afd7-1724d48e443e",
   "metadata": {},
   "outputs": [],
   "source": [
    "try:\n",
    "    current_folder = pathlib.Path(__file__).parent\n",
    "except NameError:\n",
    "    current_folder = globals()['_dh'][0]"
   ]
  },
  {
   "cell_type": "code",
   "execution_count": null,
   "id": "83940b86-2e30-4237-ad66-5aa2627fe56f",
   "metadata": {},
   "outputs": [],
   "source": [
    "mco_sha_2c_file = current_folder / pathlib.Path(\"./data/SW_OPER_MCO_SHA_2C_20131125T000000_20220601T000000_0801/SW_OPER_MCO_SHA_2C_20131125T000000_20220601T000000_0801.shc\")\n",
    "mio_sha_2c_file = current_folder / pathlib.Path(\"./data/SW_OPER_MIO_SHA_2C_00000000T000000_99999999T999999_0801/SW_OPER_MIO_SHA_2C_00000000T000000_99999999T999999_0801.txt\")\n",
    "mma_sha_2c_file = current_folder / pathlib.Path(\"./data/SW_OPER_MMA_SHA_2C_20131125T000000_20181231T235959_0501/SW_OPER_MMA_SHA_2C_20131125T000000_20181231T235959_0501.cdf\")\n",
    "mli_sha_2c_file = current_folder / pathlib.Path(\"./data/SW_OPER_MLI_SHA_2C_00000000T000000_99999999T999999_0801/SW_OPER_MLI_SHA_2C_00000000T000000_99999999T999999_0801.shc\")"
   ]
  },
  {
   "cell_type": "code",
   "execution_count": null,
   "id": "14a82aaa-a5ec-406b-9f2f-5aad0d53d3bb",
   "metadata": {},
   "outputs": [],
   "source": [
    "mco = eoxmagmod.load_model_shc(str(mco_sha_2c_file))\n",
    "mio_e = eoxmagmod.load_model_swarm_mio_external(str(mio_sha_2c_file))\n",
    "mio_i = eoxmagmod.load_model_swarm_mio_internal(str(mio_sha_2c_file))\n",
    "mma_e = eoxmagmod.load_model_swarm_mma_2c_external(str(mma_sha_2c_file))\n",
    "mma_i = eoxmagmod.load_model_swarm_mma_2c_internal(str(mma_sha_2c_file))\n",
    "mli = eoxmagmod.load_model_shc(str(mli_sha_2c_file))"
   ]
  },
  {
   "cell_type": "code",
   "execution_count": null,
   "id": "c920eae8-6ea4-4338-94f7-851de31cfd1d",
   "metadata": {},
   "outputs": [],
   "source": [
    "hv.extension(\"bokeh\")"
   ]
  },
  {
   "cell_type": "code",
   "execution_count": null,
   "id": "e8b95b5f",
   "metadata": {
    "tags": [
     "hide-cell"
    ]
   },
   "outputs": [],
   "source": [
    "def generate_latlon_grid(resolution=2, min_lat=-90, max_lat=90, height=0):\n",
    "    \"Generate a grid of positions over the Earth at a given degree resolution at a given height (km) relative to reference radius\"\n",
    "    lat, lon = np.meshgrid(\n",
    "        np.arange(min_lat, max_lat, resolution),\n",
    "        np.arange(-180, 180, resolution)\n",
    "    )\n",
    "    REFRAD_KM = 6371.200\n",
    "    radius = np.ones_like(lat)*(height + REFRAD_KM)\n",
    "    return lat, lon, radius\n",
    "\n",
    "\n",
    "def datetime_to_mjd2000(t: dt.datetime) -> float:\n",
    "    \"Convert a datetime object to MJD2000.\"\n",
    "    # Convert to datetime64 ns\n",
    "    t = np.datetime64(t).astype(\"M8[ns]\")\n",
    "    # Get offset to year 2000\n",
    "    t = (t - np.datetime64('2000')).astype('int64')\n",
    "    # Convert from ns to days\n",
    "    NS2DAYS = 1.0/(24*60*60*1e9)\n",
    "    return t * NS2DAYS\n",
    "\n",
    "\n",
    "def eval_model(\n",
    "        lat: np.ndarray, lon: np.ndarray, radius: np.ndarray,\n",
    "        times=np.array([dt.datetime(2018, 1, 1)]),\n",
    "        shc_model=eoxmagmod.data.IGRF13,\n",
    "        generic_model=None, f107=1.0\n",
    "    ):\n",
    "    \"\"\"Evaluate a model on a grid across different times\n",
    "\n",
    "    Returns:\n",
    "        ndarray: B_NEC values at each point\n",
    "    \"\"\"\n",
    "    # Convert Python datetime to MJD2000\n",
    "    mjd2000 = [datetime_to_mjd2000(t) for t in times]\n",
    "    # Load model\n",
    "    model = generic_model if generic_model else eoxmagmod.load_model_shc(shc_model)\n",
    "    # Reshape the input coordinates to use eoxmagmod\n",
    "    orig_shape = lat.shape\n",
    "    _lat, _lon, _radius = map(lambda x: x.flatten(), (lat, lon, radius))\n",
    "    coords = np.stack((_lat, _lon, _radius), axis=1)\n",
    "    # expand coords according to the time dimension\n",
    "    coords = np.stack([coords for i in range(len(mjd2000))])\n",
    "    timestack = np.stack([np.ones_like(_lat)*t for t in mjd2000])\n",
    "    # Evaluate in North, East, Up coordinates\n",
    "    # Specify coordinate systems according to:\n",
    "    #   CT_GEODETIC_ABOVE_WGS84 = 0,\n",
    "    #   CT_GEOCENTRIC_SPHERICAL = 1,\n",
    "    #   CT_GEOCENTRIC_CARTESIAN = 2\n",
    "    # https://github.com/ESA-VirES/MagneticModel/blob/staging/eoxmagmod/eoxmagmod/pymm_coord.h\n",
    "    input_coordinate_system = 1\n",
    "    output_coordinate_system = 1\n",
    "    # Use scale to convert NEU to NEC\n",
    "    b_nec = model.eval(timestack, coords, input_coordinate_system, output_coordinate_system, scale=[1, 1, -1], f107=f107)\n",
    "    # Inclination (I), declination (D), intensity (F)\n",
    "    # inc, dec, F = eoxmagmod.vincdecnorm(b_neu)\n",
    "    # Reshape output back to original grid\n",
    "    b_nec = b_nec.reshape(times.shape + orig_shape + (3, ))\n",
    "    return b_nec\n",
    "\n",
    "\n",
    "def eval_model_on_grid(model=None, heights=np.arange(0, 1000, 100), resolution=1, times=np.array([dt.datetime(2018, 1, 1)])):\n",
    "    ds_set = []\n",
    "    for height in heights:\n",
    "        latG, lonG, radiusG = generate_latlon_grid(resolution=resolution, height=height)\n",
    "        b_nec = eval_model(latG, lonG, radiusG, times=times, generic_model=model)\n",
    "        _ds = xr.Dataset({'B_NEC': (['time', 'x', 'y', 'NEC'],  b_nec)},\n",
    "                 coords={'lon': (['x', 'y'], lonG),\n",
    "                         'lat': (['x', 'y'], latG),\n",
    "                         'time': times})\n",
    "        _ds = _ds.assign_coords({\"height\": height})\n",
    "        ds_set += [_ds]\n",
    "    ds = xr.concat(ds_set, dim=\"height\")\n",
    "    ds[\"height\"].attrs = {\"units\": \"km\"}\n",
    "    ds = ds.assign_coords({\"NEC\": np.array([\"N\", \"E\", \"C\"])})\n",
    "    return ds"
   ]
  },
  {
   "cell_type": "markdown",
   "id": "11bccddf",
   "metadata": {},
   "source": [
    "## Core field"
   ]
  },
  {
   "cell_type": "code",
   "execution_count": null,
   "id": "f9b9e05d",
   "metadata": {
    "tags": [
     "hide-cell"
    ]
   },
   "outputs": [],
   "source": [
    "@pn.cache(to_disk=True)\n",
    "def get_core_field():\n",
    "    logger.warning(\"Evaluating core field...\")\n",
    "    return eval_model_on_grid(\n",
    "        model=mco,\n",
    "        heights=np.arange(-3000, 3000, 500),\n",
    "        resolution=0.5,\n",
    "    )\n",
    "\n",
    "ds_core = get_core_field()\n",
    "# ds_core"
   ]
  },
  {
   "cell_type": "code",
   "execution_count": null,
   "id": "6309598d-7de9-4801-aaec-4345ed8bfecd",
   "metadata": {},
   "outputs": [],
   "source": [
    "def plot_slice_core(height=0, itime=0, NEC=\"C\"):\n",
    "    return ds_core.isel(time=0).sel(height=height, NEC=NEC).hvplot.scatter(\n",
    "        x=\"lon\", y=\"lat\", c=\"B_NEC\", by=\"NEC\", subplots=True,\n",
    "        rasterize=True, colorbar=True, hover=False, width=500, height=250, cmap=nio_colormap(), dynamic=False,\n",
    "        # clabel=\"nT\"\n",
    "    ).opts(shared_axes=False)\n",
    "\n",
    "dmap_core = (\n",
    "    hv.DynamicMap(plot_slice_core, kdims=[\"height\"])#, \"NEC\"])\n",
    "    .redim.values(height=tuple(ds_core[\"height\"].values),)# NEC=(\"N\", \"E\", \"C\"))\n",
    ").options(title=\"Core (MCO)\", show_title=False)\n",
    "# dmap_core"
   ]
  },
  {
   "cell_type": "code",
   "execution_count": null,
   "id": "c911d47b-6583-4469-8936-faab03c2bfb1",
   "metadata": {},
   "outputs": [],
   "source": [
    "# height_slider = pn.widgets.DiscreteSlider(options=list(ds_igrf[\"height\"].values), name=\"height\", value=0)\n",
    "# dmap = hv.DynamicMap(plot_slice_core, kdims=[\"height\"], streams=[hv.streams.Params(height_slider, ['height'])])\n",
    "# pn.Column(height_slider, dmap)"
   ]
  },
  {
   "cell_type": "markdown",
   "id": "6759f859",
   "metadata": {},
   "source": [
    "## Lithospheric field"
   ]
  },
  {
   "cell_type": "code",
   "execution_count": null,
   "id": "c19662ff",
   "metadata": {
    "tags": [
     "hide-cell"
    ]
   },
   "outputs": [],
   "source": [
    "@pn.cache(to_disk=True)\n",
    "def get_crust_field():\n",
    "    logger.warning(\"Evaluating crustal field...\")\n",
    "    return eval_model_on_grid(\n",
    "        model=mli,\n",
    "        heights=range(0, 600, 100),\n",
    "        resolution=0.5\n",
    "    )\n",
    "\n",
    "ds_crust = get_crust_field()\n",
    "# ds_crust"
   ]
  },
  {
   "cell_type": "code",
   "execution_count": null,
   "id": "7b72f8be-d324-4a83-90cb-d442a6d39b89",
   "metadata": {},
   "outputs": [],
   "source": [
    "def plot_slice_crust(height=0, itime=0, NEC=\"C\"):\n",
    "    _ds = ds_crust.sel(height=height, NEC=NEC).isel(time=itime)\n",
    "    minmax = float(min(abs(_ds[\"B_NEC\"].quantile(0.01)), abs(_ds[\"B_NEC\"].quantile(0.99))))\n",
    "    return _ds.hvplot.scatter(\n",
    "        x=\"lon\", y=\"lat\", c=\"B_NEC\", by=\"NEC\", subplots=True,\n",
    "        rasterize=True, colorbar=True, dynamic=False, hover=False,\n",
    "        width=500, height=250, cmap=nio_colormap(), clim=(-minmax, minmax),\n",
    "    ).opts(shared_axes=False)"
   ]
  },
  {
   "cell_type": "code",
   "execution_count": null,
   "id": "109ddd52-ed85-4a7a-bc9a-cd2ebd06c5b4",
   "metadata": {},
   "outputs": [],
   "source": [
    "dmap_crust = (\n",
    "    hv.DynamicMap(plot_slice_crust, kdims=[\"height\",])\n",
    "    .redim.values(height=tuple(ds_crust[\"height\"].values),)\n",
    ").options(title=\"Crust (MLI)\", show_title=False)\n",
    "# dmap_crust"
   ]
  },
  {
   "cell_type": "markdown",
   "id": "dc8b8ea0-9e99-43f1-847a-8ba90eb60cec",
   "metadata": {},
   "source": [
    "## Ionospheric field"
   ]
  },
  {
   "cell_type": "code",
   "execution_count": null,
   "id": "c405670d-3eb1-4265-b716-140c2dc7815c",
   "metadata": {},
   "outputs": [],
   "source": [
    "@pn.cache(to_disk=True)\n",
    "def get_mio_field():\n",
    "    logger.warning(\"Evaluating ionospheric field...\")\n",
    "    heights = np.array([0])\n",
    "    times = np.array([dt.datetime(2018, 1, 1, x) for x in range(0, 24, 2)])\n",
    "    resolution = 0.5\n",
    "    ds_mio_e = eval_model_on_grid(model=mio_e, heights=heights, times=times, resolution=resolution)\n",
    "    ds_mio_i = eval_model_on_grid(model=mio_i, heights=heights, times=times, resolution=resolution)\n",
    "    return xr.Dataset(\n",
    "        {\"B_NEC\":\n",
    "             xr.concat(\n",
    "                (ds_mio_e[\"B_NEC\"].expand_dims(dim=\"component\"), ds_mio_i[\"B_NEC\"].expand_dims(dim=\"component\")),\n",
    "                dim=\"component\"\n",
    "            ).assign_coords({\"component\": np.array([\"external\", \"internal\"])})\n",
    "        }\n",
    "    )\n",
    "\n",
    "ds_mio = get_mio_field()\n",
    "# ds_mio_e"
   ]
  },
  {
   "cell_type": "code",
   "execution_count": null,
   "id": "76437f33-eb42-4cc8-9db5-c4201b4ede81",
   "metadata": {},
   "outputs": [],
   "source": [
    "def plot_slice_mio(height=0, time=0, component=\"external\", NEC=\"C\"):\n",
    "    _ds = ds_mio.sel(height=height, time=time, component=component, NEC=NEC)\n",
    "    minmax = float(min(abs(_ds[\"B_NEC\"].quantile(0.01)), abs(_ds[\"B_NEC\"].quantile(0.99))))\n",
    "    return _ds.hvplot.scatter(\n",
    "        x=\"lon\", y=\"lat\", c=\"B_NEC\", by=\"NEC\", subplots=True,\n",
    "        rasterize=True, colorbar=True, dynamic=False, hover=False,\n",
    "        width=500, height=250, cmap=nio_colormap(), clim=(-minmax, minmax),\n",
    "    ).opts(shared_axes=False)\n",
    "\n",
    "dmap_mio = (\n",
    "    hv.DynamicMap(plot_slice_mio, kdims=[\"time\", \"component\"])\n",
    "    .redim.values(time=tuple(ds_mio[\"time\"].values), component=(\"external\", \"internal\"))\n",
    ").options(title=\"Ionosphere (MIO)\", show_title=False)\n",
    "# dmap_mio"
   ]
  },
  {
   "cell_type": "markdown",
   "id": "79599281-7775-4c4e-9b67-8ef36f5ace9b",
   "metadata": {},
   "source": [
    "## Magnetospheric field"
   ]
  },
  {
   "cell_type": "code",
   "execution_count": null,
   "id": "49660b88-0486-4882-b7f9-3ccd203f8f29",
   "metadata": {},
   "outputs": [],
   "source": [
    "@pn.cache(to_disk=True)\n",
    "def get_mma_field():\n",
    "    logger.warning(\"Evaluating magnetospheric field...\")\n",
    "    heights = np.array([0])\n",
    "    times = np.array([dt.datetime(2018, 1, 1, x) for x in range(0, 24, 2)])\n",
    "    resolution = 0.5\n",
    "    ds_mma_e = eval_model_on_grid(model=mma_e, heights=heights, times=times, resolution=resolution)\n",
    "    ds_mma_i = eval_model_on_grid(model=mma_i, heights=heights, times=times, resolution=resolution)\n",
    "    return xr.Dataset(\n",
    "        {\"B_NEC\":\n",
    "             xr.concat(\n",
    "                (ds_mma_e[\"B_NEC\"].expand_dims(dim=\"component\"), ds_mma_i[\"B_NEC\"].expand_dims(dim=\"component\")),\n",
    "                dim=\"component\"\n",
    "            ).assign_coords({\"component\": np.array([\"external\", \"internal\"])})\n",
    "        }\n",
    "    )\n",
    "\n",
    "ds_mma = get_mma_field()\n",
    "# ds_mma"
   ]
  },
  {
   "cell_type": "code",
   "execution_count": null,
   "id": "01469d73-f109-498c-8115-52f5e6c552d0",
   "metadata": {},
   "outputs": [],
   "source": [
    "def plot_slice_mma(height=0, time=0, component=\"external\", NEC=\"C\"):\n",
    "    _ds = ds_mma.sel(height=height, time=time, component=component, NEC=NEC)\n",
    "    minmax = float(min(abs(_ds[\"B_NEC\"].quantile(0.01)), abs(_ds[\"B_NEC\"].quantile(0.99))))\n",
    "    return _ds.hvplot.scatter(\n",
    "        x=\"lon\", y=\"lat\", c=\"B_NEC\", by=\"NEC\", subplots=True,\n",
    "        rasterize=True, colorbar=True, dynamic=False, hover=False,\n",
    "        width=500, height=250, cmap=nio_colormap(), clim=(-minmax, minmax),\n",
    "    ).opts(shared_axes=False)\n",
    "\n",
    "dmap_mma = (\n",
    "    hv.DynamicMap(plot_slice_mma, kdims=[\"time\", \"component\"])\n",
    "    .redim.values(time=tuple(ds_mma[\"time\"].values), component=(\"external\", \"internal\"))\n",
    ").options(title=\"Magnetosphere (MMA)\", show_title=False)\n",
    "# dmap_mma"
   ]
  },
  {
   "cell_type": "markdown",
   "id": "4e368b4c-e274-4ebc-88c6-5ee2e92e2b88",
   "metadata": {},
   "source": [
    "## Compile dashboard"
   ]
  },
  {
   "cell_type": "code",
   "execution_count": null,
   "id": "d5bc06fc-85ec-49e9-9e23-1062d7ed0112",
   "metadata": {},
   "outputs": [],
   "source": [
    "# spinner = pn.indicators.LoadingSpinner()\n",
    "# pn.state.add_periodic_callback(lambda: spinner.param.set_param(value=pn.state.param.busy), period=100)\n",
    "\n",
    "vires_core_url = \"https://vires.services/?ws=data%3Aapplication/json%2Bgzip%3Bbase64%2CH4sIAMta5mMC/51Va0/iQBT9K6RfF5p5dF5%2BQ5R1E18Rd1UMaSodcTalJW1hNab/fe%2BMPEpZXSWZQOfMPefc3t7evnqFzhdmrH/pvDBZ6h20POpj7COv3fJKM9UDnehx%2BXZ07xGEeQdhWNcIHbjlI4SGNrp2RugBU7B8pdTQGy2ljrJpZNY6rINJh0IseU%2BHXKOtM6uzMPpPPSVvkmQP2tJmeRbPx2XRy9JHM5nn0TLi1RvchBeXx1fhWfd7Nzy9CvGhgxemMA%2BJhuvHKCk0SGTzMjGpLurQLBqb8gUQbD2iPJrqEmrlFA7D8%2BOeu8qjdGKV7jGDVNstZv9svuMsyfJiHDkf77cuvQrQ/ldJABburnUMUJnPtZVx/mGui24jiw63evyjFNbc8CyLdbLNB7Jg75ErS9%2BQNmW0aW2VDPlit2j9fQp2spMf/Wqxbhu%2ByPkS%2BqHvXaOuwpHEPzmxWeh8YtJJiB132OAS5/cZ5o8GUwJRfoJ3tCevb3QSrzq/XqN2K0Af1uc2PL5pmDJ4mP%2B3vNuXONyLWLnj6SxLdVrau7x/9YztDu%2BsdxEOTrohOXJ9YyZuqnzzdhq3qkZvMoDl0WVWmPWAmW020M8MSYqVLyQnmFLebnUIx0hwRnwWMBoQJaF9A0wQ44GPhSScBNzeQGzyzaztIJ9SFRCOFGJSAhNoyGcCCcE5SAbwS%2BARQaAIAGJcEgSWEG7F5rOlClIgISRMXImoVJJYGcEVZxQLLlQgqGAW4xRjKQVWQiglFLUquZk8le6V8xVlAmNEGZFMKY4thUibHkgoCg5KCpcOQRyMFKyAQP6SjWzhnrvPptia3acwo8t5/Da%2Bk6xsjm54SC%2BW5D4ZfTf/3f40enDDJ50nicXIKmi03jVCXGusoiw2qoPEcSHHLb/acBztuHxK0GJFVOokMeXy3eoms6eo9n05zKNFVtv3nqI8MfWP0vmgV9v9hDpF8Qqoqr%2BP2UcCwQcAAA%3D%3D\"\n",
    "vires_crust_url = \"https://vires.services/?ws=data%3Aapplication/json%2Bgzip%3Bbase64%2CH4sIAMta5mMC/51Va0/iQBT9K6RfF5p5dF5%2BQ5TVBF0j7qoY0lQ64mxKS9rCagj/fe%2BMPEpZXSWZQOfMPefcuZ3eWXiFzudmpH/pvDBZ6h01POpj7COv2fBKM9F9nehR%2Bbb04BGEeQthGDcIHbnhI4QGNrqyRugRUzB8pdTAG66kTrJJZDY6rIVJi0IseU%2BH3KCdNaszN/pPNSVvnGSP2tKmeRbPRmXRydInM57l0Spi4fVvwx9Xp9fhRft7O%2Bxdh/jYwXNTmMdEw/NTlBQaJLJZmZhUF1VoGo1M%2BQoIth5RHk10CbVyCsfh5WnHPeVROrZKD5hBqs0Gs38231GWZHkxipyP91uX3hLQ7ldJABZu1zoGqMxn2so4/zDXRbuWRYtbPf5RChtueJHFOtnlA1mw98hLS9%2BStmW0ae2UDPliv2jdQwp2tpcfxl%2Bp1F3NFDlTQj80va8VVTiS%2BCcnNnOdj006DrHjDmpc4vw%2BwzyvMSUQ5Sd4JwfyukYn8frYV2vUbATow/rchae3NVMGb/L/lveHEgcHEZdueTLNUp2WdpcPC8/Y0%2BFd9M7D/lk7JCfu3JixaynfvL1Tu1wO32QAy6OrrDCb7jLdTuAwMyQpVr6QnGBKebPRIhwjwRnxWcBoQJRsNmiACWI88LGQhJOA2w3EJt822hbyKVUB4UghJiUwgYZ8JpAQnINkAL8EXhEEigAgxiVBYAnhVmw2XakgBRJCQruViEoliZURXHFGseBCBYIKZjFOMZZSYCWEUkJRq5Kb8XPpvjdfUSYwRpQRyZTi2FKItOmBhKLgoKRw6RDEwUjBCAjkL9nQFu6l/WKKncbdgwZdzuK33p1kZb1vw0t6tSR3X3Rd83fzXvToOk86SxKLkXXQcDOrhbijsY6y2LAKEseFHHf8Kp1xuOfyKUGLFVGpk8SUq2%2BrnUyfo8rlcpxH86wy7zxHeWKqN9Jlv1OZ/YQ6RfEaWC7/AkvRHGW%2BBwAA\"\n",
    "dash = pn.Column(\n",
    "    # spinner,\n",
    "    # pn.pane.Markdown(f\"## Core field:\\n[(View in VirES)]({vires_core_url})\"),\n",
    "    dmap_core,\n",
    "    # pn.pane.Markdown(f\"## Crustal field:\\n[(View in VirES)]({vires_crust_url})\"),\n",
    "    dmap_crust,\n",
    "    dmap_mio,\n",
    "    dmap_mma,\n",
    ")"
   ]
  },
  {
   "cell_type": "code",
   "execution_count": null,
   "id": "1f68c643-cc24-4e83-abd8-eb0819ddebdf",
   "metadata": {},
   "outputs": [],
   "source": [
    "# bug when running? run this twice to fix it\n",
    "dash.servable(title=\"Geomagnetic Model Explorer\")"
   ]
  }
 ],
 "metadata": {
  "kernelspec": {
   "display_name": "Python [conda env:dashboards]",
   "language": "python",
   "name": "conda-env-dashboards-py"
  },
  "language_info": {
   "codemirror_mode": {
    "name": "ipython",
    "version": 3
   },
   "file_extension": ".py",
   "mimetype": "text/x-python",
   "name": "python",
   "nbconvert_exporter": "python",
   "pygments_lexer": "ipython3",
   "version": "3.10.11"
  }
 },
 "nbformat": 4,
 "nbformat_minor": 5
}
